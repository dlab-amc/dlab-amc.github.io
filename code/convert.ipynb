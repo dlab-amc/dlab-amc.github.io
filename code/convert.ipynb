{
 "cells": [
  {
   "cell_type": "code",
   "execution_count": 1,
   "metadata": {},
   "outputs": [],
   "source": [
    "import pandas as pd"
   ]
  },
  {
   "cell_type": "code",
   "execution_count": 257,
   "metadata": {},
   "outputs": [],
   "source": [
    "with open('./list/conf_dome.txt', encoding='utf-8' ) as file:\n",
    "    paper = file.readlines()\n",
    "with open('./list/journal_scopus_link.txt', encoding='utf-8' ) as file:\n",
    "    link = file.readlines()"
   ]
  },
  {
   "cell_type": "code",
   "execution_count": 258,
   "metadata": {},
   "outputs": [],
   "source": [
    "pub = pd.DataFrame(columns=['class','date','contents','state','link'])"
   ]
  },
  {
   "cell_type": "code",
   "execution_count": 259,
   "metadata": {},
   "outputs": [],
   "source": [
    "contents = []\n",
    "dates = []\n",
    "links = []\n",
    "\n",
    "for i in range(len(paper)):\n",
    "    a = paper[i]\n",
    "    a = a.replace(', \\\"',', “').replace(',\\\"','.”').replace(',”','.”').strip() +'. ' #.replace(', “','. ')\n",
    "    #a = '\"'+a+'\"'\n",
    "    \n",
    "    dates.append(a[-6:-2]) #a[-7:-3]\n",
    "    contents.append(a)\n",
    "\n",
    "for j in range(len(link)):\n",
    "    b = link[j]\n",
    "    b = b.strip()+''\n",
    "    \n",
    "    links.append(b)"
   ]
  },
  {
   "cell_type": "code",
   "execution_count": 260,
   "metadata": {},
   "outputs": [],
   "source": [
    "links+=['' for i in range(len(paper)-len(link))]"
   ]
  },
  {
   "cell_type": "code",
   "execution_count": 261,
   "metadata": {},
   "outputs": [],
   "source": [
    "links = []\n",
    "links+=['' for i in range(len(paper))]"
   ]
  },
  {
   "cell_type": "code",
   "execution_count": 262,
   "metadata": {},
   "outputs": [],
   "source": [
    "pub['contents'] = contents\n",
    "pub['class'] = 'Domestic'\n",
    "pub['state'] = 'complete'\n",
    "pub['date'] = dates\n",
    "pub['link'] = links"
   ]
  },
  {
   "cell_type": "code",
   "execution_count": 263,
   "metadata": {},
   "outputs": [],
   "source": [
    "pub = pub.sort_values(by=[\"date\"], ascending=[False]) "
   ]
  },
  {
   "cell_type": "code",
   "execution_count": 264,
   "metadata": {},
   "outputs": [
    {
     "data": {
      "text/html": [
       "<div>\n",
       "<style scoped>\n",
       "    .dataframe tbody tr th:only-of-type {\n",
       "        vertical-align: middle;\n",
       "    }\n",
       "\n",
       "    .dataframe tbody tr th {\n",
       "        vertical-align: top;\n",
       "    }\n",
       "\n",
       "    .dataframe thead th {\n",
       "        text-align: right;\n",
       "    }\n",
       "</style>\n",
       "<table border=\"1\" class=\"dataframe\">\n",
       "  <thead>\n",
       "    <tr style=\"text-align: right;\">\n",
       "      <th></th>\n",
       "      <th>class</th>\n",
       "      <th>date</th>\n",
       "      <th>contents</th>\n",
       "      <th>state</th>\n",
       "      <th>link</th>\n",
       "    </tr>\n",
       "  </thead>\n",
       "  <tbody>\n",
       "    <tr>\n",
       "      <th>0</th>\n",
       "      <td>Domestic</td>\n",
       "      <td>2023</td>\n",
       "      <td>Jaehyung Lee, Oh-Seok Kwon, Hangsik Shin, Hui-...</td>\n",
       "      <td>complete</td>\n",
       "      <td></td>\n",
       "    </tr>\n",
       "    <tr>\n",
       "      <th>9</th>\n",
       "      <td>Domestic</td>\n",
       "      <td>2023</td>\n",
       "      <td>Ga Yeon Ryu, Hyeon Seok Seok, Hangsik Shin, By...</td>\n",
       "      <td>complete</td>\n",
       "      <td></td>\n",
       "    </tr>\n",
       "    <tr>\n",
       "      <th>1</th>\n",
       "      <td>Domestic</td>\n",
       "      <td>2023</td>\n",
       "      <td>Gayeon Ryu, Hyeon Seok Seok, Byung-Moon Choi, ...</td>\n",
       "      <td>complete</td>\n",
       "      <td></td>\n",
       "    </tr>\n",
       "    <tr>\n",
       "      <th>15</th>\n",
       "      <td>Domestic</td>\n",
       "      <td>2023</td>\n",
       "      <td>Hyeon Seok Seok, Ga Yeon Ryu, Hangsik Shin, Ja...</td>\n",
       "      <td>complete</td>\n",
       "      <td></td>\n",
       "    </tr>\n",
       "    <tr>\n",
       "      <th>14</th>\n",
       "      <td>Domestic</td>\n",
       "      <td>2023</td>\n",
       "      <td>Ga Yeon Ryu, Hyeon Seok Seok, Hangsik Shin, By...</td>\n",
       "      <td>complete</td>\n",
       "      <td></td>\n",
       "    </tr>\n",
       "    <tr>\n",
       "      <th>...</th>\n",
       "      <td>...</td>\n",
       "      <td>...</td>\n",
       "      <td>...</td>\n",
       "      <td>...</td>\n",
       "      <td>...</td>\n",
       "    </tr>\n",
       "    <tr>\n",
       "      <th>111</th>\n",
       "      <td>Domestic</td>\n",
       "      <td>2004</td>\n",
       "      <td>Hangsik Shin, Byung Woo Lee, Chan Ouk Park, Ch...</td>\n",
       "      <td>complete</td>\n",
       "      <td></td>\n",
       "    </tr>\n",
       "    <tr>\n",
       "      <th>112</th>\n",
       "      <td>Domestic</td>\n",
       "      <td>2004</td>\n",
       "      <td>Byung Woo Lee, Hangsik Shin, Seong Pyo Lee, My...</td>\n",
       "      <td>complete</td>\n",
       "      <td></td>\n",
       "    </tr>\n",
       "    <tr>\n",
       "      <th>113</th>\n",
       "      <td>Domestic</td>\n",
       "      <td>2004</td>\n",
       "      <td>Hangsik Shin, Byung Woo Lee, Dae Joong Yoon, S...</td>\n",
       "      <td>complete</td>\n",
       "      <td></td>\n",
       "    </tr>\n",
       "    <tr>\n",
       "      <th>114</th>\n",
       "      <td>Domestic</td>\n",
       "      <td>2004</td>\n",
       "      <td>Byung Woo Lee, Hangsik Shin, Chan Ouk Park, Se...</td>\n",
       "      <td>complete</td>\n",
       "      <td></td>\n",
       "    </tr>\n",
       "    <tr>\n",
       "      <th>115</th>\n",
       "      <td>Domestic</td>\n",
       "      <td>2003</td>\n",
       "      <td>Se Dong Min, Segu Kang, Chungkeun Lee, Sungwon...</td>\n",
       "      <td>complete</td>\n",
       "      <td></td>\n",
       "    </tr>\n",
       "  </tbody>\n",
       "</table>\n",
       "<p>116 rows × 5 columns</p>\n",
       "</div>"
      ],
      "text/plain": [
       "        class  date                                           contents  \\\n",
       "0    Domestic  2023  Jaehyung Lee, Oh-Seok Kwon, Hangsik Shin, Hui-...   \n",
       "9    Domestic  2023  Ga Yeon Ryu, Hyeon Seok Seok, Hangsik Shin, By...   \n",
       "1    Domestic  2023  Gayeon Ryu, Hyeon Seok Seok, Byung-Moon Choi, ...   \n",
       "15   Domestic  2023  Hyeon Seok Seok, Ga Yeon Ryu, Hangsik Shin, Ja...   \n",
       "14   Domestic  2023  Ga Yeon Ryu, Hyeon Seok Seok, Hangsik Shin, By...   \n",
       "..        ...   ...                                                ...   \n",
       "111  Domestic  2004  Hangsik Shin, Byung Woo Lee, Chan Ouk Park, Ch...   \n",
       "112  Domestic  2004  Byung Woo Lee, Hangsik Shin, Seong Pyo Lee, My...   \n",
       "113  Domestic  2004  Hangsik Shin, Byung Woo Lee, Dae Joong Yoon, S...   \n",
       "114  Domestic  2004  Byung Woo Lee, Hangsik Shin, Chan Ouk Park, Se...   \n",
       "115  Domestic  2003  Se Dong Min, Segu Kang, Chungkeun Lee, Sungwon...   \n",
       "\n",
       "        state link  \n",
       "0    complete       \n",
       "9    complete       \n",
       "1    complete       \n",
       "15   complete       \n",
       "14   complete       \n",
       "..        ...  ...  \n",
       "111  complete       \n",
       "112  complete       \n",
       "113  complete       \n",
       "114  complete       \n",
       "115  complete       \n",
       "\n",
       "[116 rows x 5 columns]"
      ]
     },
     "execution_count": 264,
     "metadata": {},
     "output_type": "execute_result"
    }
   ],
   "source": [
    "pub"
   ]
  },
  {
   "cell_type": "code",
   "execution_count": 265,
   "metadata": {},
   "outputs": [],
   "source": [
    "pub.to_csv(\"./conv/conf_dome.tsv\", index = False, sep = '\\t', encoding='utf-8')"
   ]
  },
  {
   "cell_type": "code",
   "execution_count": null,
   "metadata": {},
   "outputs": [],
   "source": []
  }
 ],
 "metadata": {
  "kernelspec": {
   "display_name": "Python 3",
   "language": "python",
   "name": "python3"
  },
  "language_info": {
   "codemirror_mode": {
    "name": "ipython",
    "version": 3
   },
   "file_extension": ".py",
   "mimetype": "text/x-python",
   "name": "python",
   "nbconvert_exporter": "python",
   "pygments_lexer": "ipython3",
   "version": "3.12.1"
  }
 },
 "nbformat": 4,
 "nbformat_minor": 2
}
